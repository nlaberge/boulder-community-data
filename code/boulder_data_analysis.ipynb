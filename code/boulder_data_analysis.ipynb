{
 "cells": [
  {
   "cell_type": "code",
   "execution_count": 1,
   "metadata": {},
   "outputs": [],
   "source": [
    "import pandas as pd"
   ]
  },
  {
   "cell_type": "markdown",
   "metadata": {},
   "source": [
    "# 1. What fraction of Boulder's Indigenous residents are unhoused?\n",
    "* To make this calculation, we use:\n",
    "    * 2019 [Census Bureau estimates](https://www.census.gov/quickfacts/fact/table/bouldercountycolorado,bouldercitycolorado/RHI825219#RHI825219) for the City of Boulder's American Indian and Alaska Native (AIAN) population. Throughout this report, we interchange AIAN with Indigenous. \n",
    "    * 2019 and 2020 data from [Metro Denver Homeless Initiative's Point in Time Survey](https://www.mdhi.org/pit). Point in Time data that is avaliable online is at the granularity of Boulder county. We requested and were provided with survey data specifically for the [City of Boulder for 2019 and 2020](https://github.com/nlaberge/boulder-community-data/blob/main/data/boulder_city_pit.xlsx), for fair comparion with City of Boulder's Census Bureau estimates. Point in Time Survey is a known undercount, so our calculation is a lower bound on the proportion of unhoused Indigenous residents. \n",
    "* Please write to us with any questions about this data, or our analysis. \n",
    "       - Sam Becker (samhbecker@gmail.com)\n",
    "       - Nick LaBerge (labergenick@gmail.com)"
   ]
  },
  {
   "cell_type": "markdown",
   "metadata": {},
   "source": [
    "#### First, we distribute \"missing\" race responses from the PIT survey across races, in proportion to each group's demographic representation\n",
    "* \"missing\" responses only occur in 2019"
   ]
  },
  {
   "cell_type": "code",
   "execution_count": 2,
   "metadata": {},
   "outputs": [
    {
     "name": "stdout",
     "output_type": "stream",
     "text": [
      "22 missing responses in the 2019 PIT survey.\n",
      "0.0 missing responses in the 2020 PIT survey.\n"
     ]
    }
   ],
   "source": [
    "df_census = pd.read_excel('../data/boulder_city_census.xlsx').drop(columns = ['source','coverage'])\n",
    "df_pit = pd.read_excel('../data/boulder_city_pit.xlsx').drop(columns = ['source','coverage'])\n",
    "\n",
    "df_pit = df_pit.set_index('year')\n",
    "\n",
    "for year in [2019, 2020]:\n",
    "    pit_year = df_pit.loc[(df_pit.index == year)]\n",
    "    num_missing = df_pit.loc[(df_pit.index == year) & (df_pit.race == 'Missing'), 'population'].iloc[0]\n",
    "    print(num_missing, 'missing responses in the', year,'PIT survey.')\n",
    "\n",
    "    #calculate the fraction of unhoused people that each group represents, excuding the people with \"missing\" race\n",
    "    pit_year_pop_not_missing = pit_year.population.sum() - num_missing\n",
    "    df_pit.loc[(df_pit.index == year),'frac'] = pit_year.population / pit_year_pop_not_missing\n",
    "\n",
    "    #distribute the \"missing\" race people across races, in proportion to each group's demographic representation\n",
    "    pit_year = df_pit.loc[(df_pit.index == year)]\n",
    "    df_pit.loc[(df_pit.index == year),'population'] += pit_year.frac * num_missing\n",
    "\n",
    "# remove the \"missing\" rows, now that we have distributed them across observed races\n",
    "df_pit = df_pit[df_pit['race']!='Missing']"
   ]
  },
  {
   "cell_type": "markdown",
   "metadata": {},
   "source": [
    "#### This gives us a lower bound on the number of Boulder's unhoused Indigenous residents for both years: \n",
    "* at least 33 in 2019\n",
    "* at least 21 in 2020"
   ]
  },
  {
   "cell_type": "code",
   "execution_count": 3,
   "metadata": {
    "scrolled": true
   },
   "outputs": [
    {
     "data": {
      "text/html": [
       "<div>\n",
       "<style scoped>\n",
       "    .dataframe tbody tr th:only-of-type {\n",
       "        vertical-align: middle;\n",
       "    }\n",
       "\n",
       "    .dataframe tbody tr th {\n",
       "        vertical-align: top;\n",
       "    }\n",
       "\n",
       "    .dataframe thead th {\n",
       "        text-align: right;\n",
       "    }\n",
       "</style>\n",
       "<table border=\"1\" class=\"dataframe\">\n",
       "  <thead>\n",
       "    <tr style=\"text-align: right;\">\n",
       "      <th></th>\n",
       "      <th>race</th>\n",
       "      <th>population</th>\n",
       "      <th>type</th>\n",
       "      <th>frac</th>\n",
       "    </tr>\n",
       "    <tr>\n",
       "      <th>year</th>\n",
       "      <th></th>\n",
       "      <th></th>\n",
       "      <th></th>\n",
       "      <th></th>\n",
       "    </tr>\n",
       "  </thead>\n",
       "  <tbody>\n",
       "    <tr>\n",
       "      <th>2019</th>\n",
       "      <td>AIAN</td>\n",
       "      <td>33.64486</td>\n",
       "      <td>unhoused</td>\n",
       "      <td>0.074766</td>\n",
       "    </tr>\n",
       "    <tr>\n",
       "      <th>2020</th>\n",
       "      <td>AIAN</td>\n",
       "      <td>21.00000</td>\n",
       "      <td>unhoused</td>\n",
       "      <td>0.059155</td>\n",
       "    </tr>\n",
       "  </tbody>\n",
       "</table>\n",
       "</div>"
      ],
      "text/plain": [
       "      race  population      type      frac\n",
       "year                                      \n",
       "2019  AIAN    33.64486  unhoused  0.074766\n",
       "2020  AIAN    21.00000  unhoused  0.059155"
      ]
     },
     "execution_count": 3,
     "metadata": {},
     "output_type": "execute_result"
    }
   ],
   "source": [
    "df_pit[df_pit.race == 'AIAN']"
   ]
  },
  {
   "cell_type": "markdown",
   "metadata": {},
   "source": [
    "#### The Census Bureau estimates that there are 211 Indigenous residents in the City of Boulder overall:"
   ]
  },
  {
   "cell_type": "code",
   "execution_count": 4,
   "metadata": {
    "scrolled": true
   },
   "outputs": [
    {
     "data": {
      "text/plain": [
       "3    211.346\n",
       "Name: population, dtype: float64"
      ]
     },
     "execution_count": 4,
     "metadata": {},
     "output_type": "execute_result"
    }
   ],
   "source": [
    "df_census[df_census.race == 'AIAN']['population']"
   ]
  },
  {
   "cell_type": "markdown",
   "metadata": {},
   "source": [
    "#### Now, we can estimate the fraction of Boulder's Indigenous residents who are unhoused:\n",
    "* at least 15.9 percent in 2019\n",
    "* at least 9.9 percent in 2020"
   ]
  },
  {
   "cell_type": "code",
   "execution_count": 5,
   "metadata": {},
   "outputs": [
    {
     "data": {
      "text/plain": [
       "year\n",
       "2019    0.159193\n",
       "2020    0.099363\n",
       "Name: population, dtype: float64"
      ]
     },
     "execution_count": 5,
     "metadata": {},
     "output_type": "execute_result"
    }
   ],
   "source": [
    "# number of unhoused aian residents divided by total number of aian residents, for 2019 and 2020\n",
    "frac_unhoused_aian = df_pit[df_pit.race == 'AIAN']['population'] / df_census[df_census.race == 'AIAN']['population'].iloc[0]\n",
    "frac_unhoused_aian"
   ]
  },
  {
   "cell_type": "markdown",
   "metadata": {},
   "source": [
    "# What fraction of Boulder's White residents are unhoused?\n",
    "* We can use the same data and methodology to make this calculation as before"
   ]
  },
  {
   "cell_type": "markdown",
   "metadata": {},
   "source": [
    "#### Lower bound on the number of Boulder's unhoused White residents for both years:\n",
    "* at least 307 in 2019\n",
    "* at least 251 in 2020"
   ]
  },
  {
   "cell_type": "code",
   "execution_count": 6,
   "metadata": {},
   "outputs": [
    {
     "data": {
      "text/html": [
       "<div>\n",
       "<style scoped>\n",
       "    .dataframe tbody tr th:only-of-type {\n",
       "        vertical-align: middle;\n",
       "    }\n",
       "\n",
       "    .dataframe tbody tr th {\n",
       "        vertical-align: top;\n",
       "    }\n",
       "\n",
       "    .dataframe thead th {\n",
       "        text-align: right;\n",
       "    }\n",
       "</style>\n",
       "<table border=\"1\" class=\"dataframe\">\n",
       "  <thead>\n",
       "    <tr style=\"text-align: right;\">\n",
       "      <th></th>\n",
       "      <th>race</th>\n",
       "      <th>population</th>\n",
       "      <th>type</th>\n",
       "      <th>frac</th>\n",
       "    </tr>\n",
       "    <tr>\n",
       "      <th>year</th>\n",
       "      <th></th>\n",
       "      <th></th>\n",
       "      <th></th>\n",
       "      <th></th>\n",
       "    </tr>\n",
       "  </thead>\n",
       "  <tbody>\n",
       "    <tr>\n",
       "      <th>2019</th>\n",
       "      <td>White</td>\n",
       "      <td>307.009346</td>\n",
       "      <td>unhoused</td>\n",
       "      <td>0.682243</td>\n",
       "    </tr>\n",
       "    <tr>\n",
       "      <th>2020</th>\n",
       "      <td>White</td>\n",
       "      <td>251.000000</td>\n",
       "      <td>unhoused</td>\n",
       "      <td>0.707042</td>\n",
       "    </tr>\n",
       "  </tbody>\n",
       "</table>\n",
       "</div>"
      ],
      "text/plain": [
       "       race  population      type      frac\n",
       "year                                       \n",
       "2019  White  307.009346  unhoused  0.682243\n",
       "2020  White  251.000000  unhoused  0.707042"
      ]
     },
     "execution_count": 6,
     "metadata": {},
     "output_type": "execute_result"
    }
   ],
   "source": [
    "df_pit[df_pit.race == 'White']"
   ]
  },
  {
   "cell_type": "markdown",
   "metadata": {},
   "source": [
    "#### The Census Bureau estimates that there are 92,358 White residents in the City of Boulder overall:"
   ]
  },
  {
   "cell_type": "code",
   "execution_count": 7,
   "metadata": {
    "scrolled": true
   },
   "outputs": [
    {
     "data": {
      "text/plain": [
       "0    92358.202\n",
       "Name: population, dtype: float64"
      ]
     },
     "execution_count": 7,
     "metadata": {},
     "output_type": "execute_result"
    }
   ],
   "source": [
    "df_census[df_census.race == 'White']['population']"
   ]
  },
  {
   "cell_type": "markdown",
   "metadata": {},
   "source": [
    "#### Now, we can estimate the fraction of Boulder's White residents who are unhoused:\n",
    "* at least 0.33 percent in 2019\n",
    "* at least 0.27 percent in 2020"
   ]
  },
  {
   "cell_type": "code",
   "execution_count": 8,
   "metadata": {},
   "outputs": [
    {
     "data": {
      "text/plain": [
       "year\n",
       "2019    0.003324\n",
       "2020    0.002718\n",
       "Name: population, dtype: float64"
      ]
     },
     "execution_count": 8,
     "metadata": {},
     "output_type": "execute_result"
    }
   ],
   "source": [
    "# number of unhoused white residents divided by total number of white residents, for 2019 and 2020\n",
    "frac_unhoused_white = df_pit[df_pit.race == 'White']['population'] / df_census[df_census.race == 'White']['population'].iloc[0]\n",
    "frac_unhoused_white"
   ]
  },
  {
   "cell_type": "markdown",
   "metadata": {},
   "source": [
    "## Using these estimates, we find that <font color='red'>Boulder's Indigenous residents are on average 42.2x more likely to be unhoused than Boulder's White residents</font>. \n",
    "* 47.9x more likely in 2019\n",
    "* 36.6x more likely in 2020"
   ]
  },
  {
   "cell_type": "code",
   "execution_count": 9,
   "metadata": {
    "scrolled": true
   },
   "outputs": [
    {
     "data": {
      "text/plain": [
       "year\n",
       "2019    47.890411\n",
       "2020    36.561753\n",
       "Name: population, dtype: float64"
      ]
     },
     "execution_count": 9,
     "metadata": {},
     "output_type": "execute_result"
    }
   ],
   "source": [
    "frac_unhoused_aian / frac_unhoused_white"
   ]
  },
  {
   "cell_type": "code",
   "execution_count": 10,
   "metadata": {},
   "outputs": [
    {
     "data": {
      "text/plain": [
       "42.22608197347596"
      ]
     },
     "execution_count": 10,
     "metadata": {},
     "output_type": "execute_result"
    }
   ],
   "source": [
    "(frac_unhoused_aian / frac_unhoused_white).mean()"
   ]
  },
  {
   "cell_type": "markdown",
   "metadata": {},
   "source": [
    "***\n",
    "# 2. To what extent are unhoused Indigenous residents ticketed for non-violent offences, relative to housed Indigenous residents?\n",
    "* To make this calculation, we use:\n",
    "    * 2019 [Census Bureau estimates](https://www.census.gov/quickfacts/fact/table/bouldercountycolorado,bouldercitycolorado/RHI825219#RHI825219) for the City of Boulder's American Indian and Alaska Native (AIAN) population, as before\n",
    "    * 2019 and 2020 data from [Metro Denver Homeless Initiative's Point in Time Survey](https://www.mdhi.org/pit), as before\n",
    "    * A comprehensive [dataset](https://github.com/nlaberge/boulder-community-data/blob/main/data/becker_data_request_indigenous_citations_boulder.csv) of tickets written to Indigenous people for non-violent offences that occurred in the City of Boulder in 2019 and 2020, broken down by race and housing status. This data was requested from and provided by the City of Boulder. Per the City of Boulder Court Administrator, there is a high correlation between providing no address while being ticketed and being unhoused, so that is how we define whether someone is unhoused.\n",
    "\n",
    "   "
   ]
  },
  {
   "cell_type": "markdown",
   "metadata": {},
   "source": [
    "#### First, we clean up the citations data that was provided by the City of Boulder"
   ]
  },
  {
   "cell_type": "code",
   "execution_count": 11,
   "metadata": {},
   "outputs": [
    {
     "data": {
      "text/html": [
       "<div>\n",
       "<style scoped>\n",
       "    .dataframe tbody tr th:only-of-type {\n",
       "        vertical-align: middle;\n",
       "    }\n",
       "\n",
       "    .dataframe tbody tr th {\n",
       "        vertical-align: top;\n",
       "    }\n",
       "\n",
       "    .dataframe thead th {\n",
       "        text-align: right;\n",
       "    }\n",
       "</style>\n",
       "<table border=\"1\" class=\"dataframe\">\n",
       "  <thead>\n",
       "    <tr style=\"text-align: right;\">\n",
       "      <th></th>\n",
       "      <th>COURT_CASE</th>\n",
       "      <th>PARTY_ID</th>\n",
       "      <th>VIOLATION_DATE</th>\n",
       "      <th>HOUSED?</th>\n",
       "      <th>STATUTE_DESC</th>\n",
       "      <th>RACE</th>\n",
       "      <th>year</th>\n",
       "    </tr>\n",
       "  </thead>\n",
       "  <tbody>\n",
       "    <tr>\n",
       "      <th>0</th>\n",
       "      <td>CR-2018-0000372-BI</td>\n",
       "      <td>232509</td>\n",
       "      <td>2018-01-13 18:20:00</td>\n",
       "      <td>YES</td>\n",
       "      <td>Careless Driving</td>\n",
       "      <td>AIAN</td>\n",
       "      <td>2018</td>\n",
       "    </tr>\n",
       "    <tr>\n",
       "      <th>1</th>\n",
       "      <td>CR-2018-0001449-TI</td>\n",
       "      <td>233281</td>\n",
       "      <td>2018-02-23 19:18:00</td>\n",
       "      <td>YES</td>\n",
       "      <td>Defective Headlight</td>\n",
       "      <td>AIAN</td>\n",
       "      <td>2018</td>\n",
       "    </tr>\n",
       "    <tr>\n",
       "      <th>2</th>\n",
       "      <td>CR-2018-0002518-TI</td>\n",
       "      <td>233976</td>\n",
       "      <td>2018-03-21 10:00:00</td>\n",
       "      <td>YES</td>\n",
       "      <td>Drove Unsafe (Defective) Vehicle</td>\n",
       "      <td>AIAN</td>\n",
       "      <td>2018</td>\n",
       "    </tr>\n",
       "  </tbody>\n",
       "</table>\n",
       "</div>"
      ],
      "text/plain": [
       "           COURT_CASE  PARTY_ID      VIOLATION_DATE HOUSED?  \\\n",
       "0  CR-2018-0000372-BI    232509 2018-01-13 18:20:00     YES   \n",
       "1  CR-2018-0001449-TI    233281 2018-02-23 19:18:00     YES   \n",
       "2  CR-2018-0002518-TI    233976 2018-03-21 10:00:00     YES   \n",
       "\n",
       "                       STATUTE_DESC  RACE  year  \n",
       "0                  Careless Driving  AIAN  2018  \n",
       "1               Defective Headlight  AIAN  2018  \n",
       "2  Drove Unsafe (Defective) Vehicle  AIAN  2018  "
      ]
     },
     "execution_count": 11,
     "metadata": {},
     "output_type": "execute_result"
    }
   ],
   "source": [
    "df_citations = pd.read_csv('../data/becker_data_request_indigenous_citations_boulder.csv')\n",
    "\n",
    "#rename race to match census...\n",
    "df_citations['RACE'] = df_citations['RACE'].replace({'Indian':'AIAN'})\n",
    "\n",
    "#add a year column, based on the VIOLATION_DATE\n",
    "df_citations['VIOLATION_DATE'] = pd.to_datetime(df_citations['VIOLATION_DATE'])\n",
    "df_citations['year'] = df_citations['VIOLATION_DATE'].apply(lambda x: x.year)\n",
    "\n",
    "#look at first three rows of the cleaned data\n",
    "df_citations.head(3)"
   ]
  },
  {
   "cell_type": "markdown",
   "metadata": {},
   "source": [
    "#### Now, we can calculate the number of citations made to housed and unhoused Indigenous residents\n",
    "* In 2019:\n",
    "    - 21 citations to unhoused Indigenous residents\n",
    "    - 22 citations to housed Indigenous residents\n",
    "* In 2020:\n",
    "    - 17 citations to unhoused Indigenous residents\n",
    "    - 6 citations to housed Indigenous residents"
   ]
  },
  {
   "cell_type": "code",
   "execution_count": 12,
   "metadata": {
    "scrolled": true
   },
   "outputs": [
    {
     "data": {
      "text/plain": [
       "year  HOUSED?\n",
       "2019  NO         21\n",
       "      YES        22\n",
       "2020  NO         17\n",
       "      YES         6\n",
       "Name: RACE, dtype: int64"
      ]
     },
     "execution_count": 12,
     "metadata": {},
     "output_type": "execute_result"
    }
   ],
   "source": [
    "citations_by_year_and_status = df_citations.groupby(\n",
    "    by=['year','HOUSED?']).count()['RACE'][[2019, 2020]]\n",
    "\n",
    "citations_by_year_and_status"
   ]
  },
  {
   "cell_type": "markdown",
   "metadata": {},
   "source": [
    "#### Using the citation counts from above, we calculate the number of citations per person in each reference group (housed vs. unhoused)."
   ]
  },
  {
   "cell_type": "code",
   "execution_count": 13,
   "metadata": {
    "scrolled": true
   },
   "outputs": [
    {
     "name": "stdout",
     "output_type": "stream",
     "text": [
      "Estimated number of housed AIAN residents in 2019 : 177.7011401869159\n",
      "\t Number of citations: 22\n",
      "\t Citations per person: 0.12380336995507842 \n",
      "\n",
      "Estimated number of unhoused AIAN residents in 2019 : 33.64485981308411\n",
      "\t Number of citations: 21\n",
      "\t Citations per person: 0.6241666666666666 \n",
      "\n",
      "Estimated number of housed AIAN residents in 2020 : 190.346\n",
      "\t Number of citations: 6\n",
      "\t Citations per person: 0.03152154497599109 \n",
      "\n",
      "Estimated number of unhoused AIAN residents in 2020 : 21.0\n",
      "\t Number of citations: 17\n",
      "\t Citations per person: 0.8095238095238095 \n",
      "\n"
     ]
    }
   ],
   "source": [
    "citations_per_person = {2019:{'YES':0,'NO':0}, # to store results\n",
    "                        2020:{'YES':0,'NO':0}}\n",
    "for year in [2019,2020]:\n",
    "    # get num unhoused from PiT data (known underestimate)\n",
    "    num_unhoused = df_pit[df_pit.race == 'AIAN'].loc[year]['population']\n",
    "    \n",
    "    # get num housed by subtracting num_unhoused from census estimate, which\n",
    "    # is intended to include all people, both housed and unhoused\n",
    "    num_housed = float(df_census[df_census.race == 'AIAN']['population'] - num_unhoused)\n",
    "    \n",
    "    for housed_status in ['YES','NO']:\n",
    "        if housed_status == 'YES': \n",
    "            num_people = num_housed\n",
    "            print('Estimated number of housed AIAN residents in', year,':',num_people)\n",
    "        else: \n",
    "            num_people = num_unhoused\n",
    "            print('Estimated number of unhoused AIAN residents in', year,':',num_people)\n",
    "        num_citations = citations_by_year_and_status[year][housed_status]\n",
    "        num_citations_per_person = num_citations/num_people\n",
    "        print('\\t Number of citations:',num_citations)\n",
    "        print('\\t Citations per person:',num_citations_per_person,'\\n')\n",
    "        citations_per_person[year][housed_status] = num_citations_per_person"
   ]
  },
  {
   "cell_type": "markdown",
   "metadata": {},
   "source": [
    "# Using these estimates, we find that unhoused Indigenous residents are cited up to 15.4x more per person than housed Indigenous residents, on average. \n",
    "- In 2019, unhoused Indigenous residents recieved up to 5.04 times more citations per capita than their housed neighbors\n",
    "- In 2020, unhoused Indigenous residents recieved up to 25.68 times more citations per capita than their housed neighbors\n",
    "\n",
    "\\* we note that these estimates are likely upperbounds, as the PIT survey data likely undercount the number of unhoused AIAN people."
   ]
  },
  {
   "cell_type": "code",
   "execution_count": 14,
   "metadata": {},
   "outputs": [
    {
     "name": "stdout",
     "output_type": "stream",
     "text": [
      "In 2019, unhoused Indigenous residents recieved up to 5.04 times more citations per capita than their housed neighbors\n",
      "In 2020, unhoused Indigenous residents recieved up to 25.68 times more citations per capita than their housed neighbors\n"
     ]
    }
   ],
   "source": [
    "unhoused_over_housed_citations = [] #to store results\n",
    "\n",
    "for year in [2019,2020]:\n",
    "    citations_per_unhoused_person = citations_per_person[year]['NO']\n",
    "    citations_per_housed_person = citations_per_person[year]['YES']\n",
    "    \n",
    "    print('In '+str(year)+', unhoused Indigenous residents recieved up to '+\\\n",
    "          str(round(citations_per_unhoused_person /citations_per_housed_person, 2))\\\n",
    "          +' times more citations per capita than their housed neighbors')\n",
    "    \n",
    "    unhoused_over_housed_citations += [citations_per_unhoused_person /citations_per_housed_person]\n"
   ]
  },
  {
   "cell_type": "code",
   "execution_count": 15,
   "metadata": {},
   "outputs": [
    {
     "data": {
      "text/plain": [
       "15.361599958513708"
      ]
     },
     "execution_count": 15,
     "metadata": {},
     "output_type": "execute_result"
    }
   ],
   "source": [
    "sum(unhoused_over_housed_citations)/2"
   ]
  }
 ],
 "metadata": {
  "kernelspec": {
   "display_name": "Python 3",
   "language": "python",
   "name": "python3"
  },
  "language_info": {
   "codemirror_mode": {
    "name": "ipython",
    "version": 3
   },
   "file_extension": ".py",
   "mimetype": "text/x-python",
   "name": "python",
   "nbconvert_exporter": "python",
   "pygments_lexer": "ipython3",
   "version": "3.7.4"
  }
 },
 "nbformat": 4,
 "nbformat_minor": 2
}

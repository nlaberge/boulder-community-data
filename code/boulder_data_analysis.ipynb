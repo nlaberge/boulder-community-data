{
 "cells": [
  {
   "cell_type": "code",
   "execution_count": 1,
   "metadata": {},
   "outputs": [],
   "source": [
    "import pandas as pd"
   ]
  },
  {
   "cell_type": "markdown",
   "metadata": {},
   "source": [
    "# What fraction of boulder's indigenous residents are unhoused?\n",
    "* To make this calculation, we use:\n",
    "    * 2019 [Census Bureau estimates](https://www.census.gov/quickfacts/fact/table/bouldercountycolorado,bouldercitycolorado/RHI825219#RHI825219) for the City of Boulder's American Indian and Alaska Native (AIAN) population\n",
    "    * 2019 and 2020 data from [Metro Denver Homeless Initiative's Point in Time Survey](https://www.mdhi.org/pit). Point in Time data that is avaliable online is at the granularity of Boulder county. We requested and were provided with survey data specifically for the City of Boulder for 2019 and 2020, for fair comparion with City of Boulder's Census Bureau estimates. Point in Time Survey is a known undercount, so our calculation is a lower bound on the proportion of unhoused indigenous residents. \n",
    "    * Please write to us with any questions about this data, or our analysis. \n",
    "       - Sam Becker (samhbecker@gmail.com)\n",
    "       - Nick LaBerge (labergenick@gmail.com). "
   ]
  },
  {
   "cell_type": "markdown",
   "metadata": {},
   "source": [
    "#### First, we distribute \"missing\" race responses from the PiT survey across races, in proportion to each group's demographic representation\n",
    "* \"missing\" responses only occur in 2019"
   ]
  },
  {
   "cell_type": "code",
   "execution_count": 2,
   "metadata": {},
   "outputs": [
    {
     "name": "stdout",
     "output_type": "stream",
     "text": [
      "22 missing responses in the 2019 PiT survey.\n",
      "0.0 missing responses in the 2020 PiT survey.\n"
     ]
    }
   ],
   "source": [
    "df_census = pd.read_excel('../data/boulder_city_census.xlsx').drop(columns = ['source','coverage'])\n",
    "df_pit = pd.read_excel('../data/boulder_city_pit.xlsx').drop(columns = ['source','coverage'])\n",
    "\n",
    "df_pit = df_pit.set_index('year')\n",
    "\n",
    "for year in [2019, 2020]:\n",
    "    pit_year = df_pit.loc[(df_pit.index == year)]\n",
    "    num_missing = df_pit.loc[(df_pit.index == year) & (df_pit.race == 'Missing'), 'population'].iloc[0]\n",
    "    print(num_missing, 'missing responses in the', year,'PiT survey.')\n",
    "\n",
    "    #calculate the fraction of unhoused people that each group represents, excuding the people with missing race\n",
    "    pit_year_pop_not_missing = pit_year.population.sum() - num_missing\n",
    "    df_pit.loc[(df_pit.index == year),'frac'] = pit_year.population / pit_year_pop_not_missing\n",
    "\n",
    "    #distribute the missing race people across races, in proportion to each group's demographic representation\n",
    "    pit_year = df_pit.loc[(df_pit.index == year)]\n",
    "    df_pit.loc[(df_pit.index == year),'population'] += pit_year.frac * num_missing\n",
    "\n",
    "# remove the missing rows, now that we have distributed them across observed races\n",
    "df_pit = df_pit[df_pit['race']!='Missing']"
   ]
  },
  {
   "cell_type": "markdown",
   "metadata": {},
   "source": [
    "#### This gives us a lower bound on the number of boulder's unhoused indigenous residents for both years: \n",
    "* at least 33 in 2019\n",
    "* at least 21 in 2020"
   ]
  },
  {
   "cell_type": "code",
   "execution_count": 3,
   "metadata": {
    "scrolled": true
   },
   "outputs": [
    {
     "data": {
      "text/html": [
       "<div>\n",
       "<style scoped>\n",
       "    .dataframe tbody tr th:only-of-type {\n",
       "        vertical-align: middle;\n",
       "    }\n",
       "\n",
       "    .dataframe tbody tr th {\n",
       "        vertical-align: top;\n",
       "    }\n",
       "\n",
       "    .dataframe thead th {\n",
       "        text-align: right;\n",
       "    }\n",
       "</style>\n",
       "<table border=\"1\" class=\"dataframe\">\n",
       "  <thead>\n",
       "    <tr style=\"text-align: right;\">\n",
       "      <th></th>\n",
       "      <th>race</th>\n",
       "      <th>population</th>\n",
       "      <th>type</th>\n",
       "      <th>frac</th>\n",
       "    </tr>\n",
       "    <tr>\n",
       "      <th>year</th>\n",
       "      <th></th>\n",
       "      <th></th>\n",
       "      <th></th>\n",
       "      <th></th>\n",
       "    </tr>\n",
       "  </thead>\n",
       "  <tbody>\n",
       "    <tr>\n",
       "      <th>2019</th>\n",
       "      <td>AIAN</td>\n",
       "      <td>33.64486</td>\n",
       "      <td>unhoused</td>\n",
       "      <td>0.074766</td>\n",
       "    </tr>\n",
       "    <tr>\n",
       "      <th>2020</th>\n",
       "      <td>AIAN</td>\n",
       "      <td>21.00000</td>\n",
       "      <td>unhoused</td>\n",
       "      <td>0.059155</td>\n",
       "    </tr>\n",
       "  </tbody>\n",
       "</table>\n",
       "</div>"
      ],
      "text/plain": [
       "      race  population      type      frac\n",
       "year                                      \n",
       "2019  AIAN    33.64486  unhoused  0.074766\n",
       "2020  AIAN    21.00000  unhoused  0.059155"
      ]
     },
     "execution_count": 3,
     "metadata": {},
     "output_type": "execute_result"
    }
   ],
   "source": [
    "df_pit[df_pit.race == 'AIAN']"
   ]
  },
  {
   "cell_type": "markdown",
   "metadata": {},
   "source": [
    "#### The Census Bureau estimates that there are roughly 211 indigenous residents in the city of Boulder overall:"
   ]
  },
  {
   "cell_type": "code",
   "execution_count": 4,
   "metadata": {
    "scrolled": true
   },
   "outputs": [
    {
     "data": {
      "text/plain": [
       "3    211.346\n",
       "Name: population, dtype: float64"
      ]
     },
     "execution_count": 4,
     "metadata": {},
     "output_type": "execute_result"
    }
   ],
   "source": [
    "df_census[df_census.race == 'AIAN']['population']"
   ]
  },
  {
   "cell_type": "markdown",
   "metadata": {},
   "source": [
    "#### Now, we can estimate the fraction of boulder's indigenous residents who are unhoused:\n",
    "* at least 15.9 percent in 2019\n",
    "* at least 9.9 percent in 2020"
   ]
  },
  {
   "cell_type": "code",
   "execution_count": 5,
   "metadata": {},
   "outputs": [
    {
     "data": {
      "text/plain": [
       "year\n",
       "2019    0.159193\n",
       "2020    0.099363\n",
       "Name: population, dtype: float64"
      ]
     },
     "execution_count": 5,
     "metadata": {},
     "output_type": "execute_result"
    }
   ],
   "source": [
    "# number of unhoused aian residents divided by total number of aian residents, for 2019 and 2020\n",
    "frac_unhoused_aian = df_pit[df_pit.race == 'AIAN']['population'] / df_census[df_census.race == 'AIAN']['population'].iloc[0]\n",
    "frac_unhoused_aian"
   ]
  },
  {
   "cell_type": "markdown",
   "metadata": {},
   "source": [
    "# What fraction of boulder's white residents are unhoused?\n",
    "* We can use the same data sets and methodology to make this calculation as before"
   ]
  },
  {
   "cell_type": "markdown",
   "metadata": {},
   "source": [
    "#### lower bound on the number of boulder's unhoused white residents for both years\n",
    "* at least 307 in 2019\n",
    "* at least 251 in 2020"
   ]
  },
  {
   "cell_type": "code",
   "execution_count": 6,
   "metadata": {},
   "outputs": [
    {
     "data": {
      "text/html": [
       "<div>\n",
       "<style scoped>\n",
       "    .dataframe tbody tr th:only-of-type {\n",
       "        vertical-align: middle;\n",
       "    }\n",
       "\n",
       "    .dataframe tbody tr th {\n",
       "        vertical-align: top;\n",
       "    }\n",
       "\n",
       "    .dataframe thead th {\n",
       "        text-align: right;\n",
       "    }\n",
       "</style>\n",
       "<table border=\"1\" class=\"dataframe\">\n",
       "  <thead>\n",
       "    <tr style=\"text-align: right;\">\n",
       "      <th></th>\n",
       "      <th>race</th>\n",
       "      <th>population</th>\n",
       "      <th>type</th>\n",
       "      <th>frac</th>\n",
       "    </tr>\n",
       "    <tr>\n",
       "      <th>year</th>\n",
       "      <th></th>\n",
       "      <th></th>\n",
       "      <th></th>\n",
       "      <th></th>\n",
       "    </tr>\n",
       "  </thead>\n",
       "  <tbody>\n",
       "    <tr>\n",
       "      <th>2019</th>\n",
       "      <td>White</td>\n",
       "      <td>307.009346</td>\n",
       "      <td>unhoused</td>\n",
       "      <td>0.682243</td>\n",
       "    </tr>\n",
       "    <tr>\n",
       "      <th>2020</th>\n",
       "      <td>White</td>\n",
       "      <td>251.000000</td>\n",
       "      <td>unhoused</td>\n",
       "      <td>0.707042</td>\n",
       "    </tr>\n",
       "  </tbody>\n",
       "</table>\n",
       "</div>"
      ],
      "text/plain": [
       "       race  population      type      frac\n",
       "year                                       \n",
       "2019  White  307.009346  unhoused  0.682243\n",
       "2020  White  251.000000  unhoused  0.707042"
      ]
     },
     "execution_count": 6,
     "metadata": {},
     "output_type": "execute_result"
    }
   ],
   "source": [
    "df_pit[df_pit.race == 'White']"
   ]
  },
  {
   "cell_type": "markdown",
   "metadata": {},
   "source": [
    "#### The Census Bureau estimates that there are roughly 92,358 white residents in the city of Boulder overall:"
   ]
  },
  {
   "cell_type": "code",
   "execution_count": 7,
   "metadata": {
    "scrolled": true
   },
   "outputs": [
    {
     "data": {
      "text/plain": [
       "0    92358.202\n",
       "Name: population, dtype: float64"
      ]
     },
     "execution_count": 7,
     "metadata": {},
     "output_type": "execute_result"
    }
   ],
   "source": [
    "df_census[df_census.race == 'White']['population']"
   ]
  },
  {
   "cell_type": "markdown",
   "metadata": {},
   "source": [
    "#### Now, we can estimate the fraction of boulder's white residents who are unhoused:\n",
    "* at least 0.33 percent in 2019\n",
    "* at least 0.27 percent in 2020"
   ]
  },
  {
   "cell_type": "code",
   "execution_count": 8,
   "metadata": {},
   "outputs": [
    {
     "data": {
      "text/plain": [
       "year\n",
       "2019    0.003324\n",
       "2020    0.002718\n",
       "Name: population, dtype: float64"
      ]
     },
     "execution_count": 8,
     "metadata": {},
     "output_type": "execute_result"
    }
   ],
   "source": [
    "# number of unhoused white residents divided by total number of white residents, for 2019 and 2020\n",
    "frac_unhoused_white = df_pit[df_pit.race == 'White']['population'] / df_census[df_census.race == 'White']['population'].iloc[0]\n",
    "frac_unhoused_white"
   ]
  },
  {
   "cell_type": "markdown",
   "metadata": {},
   "source": [
    "# Using these estimates, we find that <font color='red'>Boulder's indigenous residents are on average 42.2x more likely to be unhoused than Boulder's white residents</font>. \n",
    "* 47.9x more likely in 2019\n",
    "* 36.6x more likely in 2020"
   ]
  },
  {
   "cell_type": "code",
   "execution_count": 9,
   "metadata": {},
   "outputs": [
    {
     "data": {
      "text/plain": [
       "year\n",
       "2019    47.890411\n",
       "2020    36.561753\n",
       "Name: population, dtype: float64"
      ]
     },
     "execution_count": 9,
     "metadata": {},
     "output_type": "execute_result"
    }
   ],
   "source": [
    "frac_unhoused_aian / frac_unhoused_white"
   ]
  },
  {
   "cell_type": "code",
   "execution_count": 10,
   "metadata": {},
   "outputs": [
    {
     "data": {
      "text/plain": [
       "42.22608197347596"
      ]
     },
     "execution_count": 10,
     "metadata": {},
     "output_type": "execute_result"
    }
   ],
   "source": [
    "(frac_unhoused_aian / frac_unhoused_white).mean()"
   ]
  },
  {
   "cell_type": "code",
   "execution_count": null,
   "metadata": {},
   "outputs": [],
   "source": []
  }
 ],
 "metadata": {
  "kernelspec": {
   "display_name": "Python 3",
   "language": "python",
   "name": "python3"
  },
  "language_info": {
   "codemirror_mode": {
    "name": "ipython",
    "version": 3
   },
   "file_extension": ".py",
   "mimetype": "text/x-python",
   "name": "python",
   "nbconvert_exporter": "python",
   "pygments_lexer": "ipython3",
   "version": "3.7.4"
  }
 },
 "nbformat": 4,
 "nbformat_minor": 2
}
